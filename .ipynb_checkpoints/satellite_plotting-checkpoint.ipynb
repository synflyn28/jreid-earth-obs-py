{
 "cells": [
  {
   "cell_type": "markdown",
   "metadata": {},
   "source": [
    "# Plotting Satellite Data"
   ]
  },
  {
   "cell_type": "code",
   "execution_count": 1,
   "metadata": {},
   "outputs": [],
   "source": [
    "import pandas as pd\n",
    "import numpy as np\n",
    "import matplotlib.pyplot as plt"
   ]
  },
  {
   "cell_type": "code",
   "execution_count": 2,
   "metadata": {},
   "outputs": [
    {
     "data": {
      "text/html": [
       "<div>\n",
       "<style scoped>\n",
       "    .dataframe tbody tr th:only-of-type {\n",
       "        vertical-align: middle;\n",
       "    }\n",
       "\n",
       "    .dataframe tbody tr th {\n",
       "        vertical-align: top;\n",
       "    }\n",
       "\n",
       "    .dataframe thead th {\n",
       "        text-align: right;\n",
       "    }\n",
       "</style>\n",
       "<table border=\"1\" class=\"dataframe\">\n",
       "  <thead>\n",
       "    <tr style=\"text-align: right;\">\n",
       "      <th></th>\n",
       "      <th>Lon</th>\n",
       "      <th>Lat</th>\n",
       "      <th>Mask</th>\n",
       "      <th>Conf</th>\n",
       "      <th>brt_t13(K)</th>\n",
       "      <th>frp(MW)</th>\n",
       "      <th>line</th>\n",
       "      <th>sample</th>\n",
       "      <th>Sat</th>\n",
       "      <th>YearDay</th>\n",
       "      <th>Hour</th>\n",
       "    </tr>\n",
       "  </thead>\n",
       "  <tbody>\n",
       "    <tr>\n",
       "      <th>0</th>\n",
       "      <td>27.110006</td>\n",
       "      <td>30.769241</td>\n",
       "      <td>8</td>\n",
       "      <td>52</td>\n",
       "      <td>302.877533</td>\n",
       "      <td>5.814295</td>\n",
       "      <td>242</td>\n",
       "      <td>1735</td>\n",
       "      <td>NDE</td>\n",
       "      <td>2018312</td>\n",
       "      <td>1</td>\n",
       "    </tr>\n",
       "    <tr>\n",
       "      <th>1</th>\n",
       "      <td>26.083252</td>\n",
       "      <td>30.534357</td>\n",
       "      <td>9</td>\n",
       "      <td>100</td>\n",
       "      <td>332.959717</td>\n",
       "      <td>24.340988</td>\n",
       "      <td>301</td>\n",
       "      <td>1620</td>\n",
       "      <td>NDE</td>\n",
       "      <td>2018312</td>\n",
       "      <td>1</td>\n",
       "    </tr>\n",
       "    <tr>\n",
       "      <th>2</th>\n",
       "      <td>34.865997</td>\n",
       "      <td>28.162659</td>\n",
       "      <td>8</td>\n",
       "      <td>38</td>\n",
       "      <td>301.165985</td>\n",
       "      <td>6.107953</td>\n",
       "      <td>396</td>\n",
       "      <td>2589</td>\n",
       "      <td>NDE</td>\n",
       "      <td>2018312</td>\n",
       "      <td>1</td>\n",
       "    </tr>\n",
       "    <tr>\n",
       "      <th>3</th>\n",
       "      <td>34.872623</td>\n",
       "      <td>28.161121</td>\n",
       "      <td>8</td>\n",
       "      <td>71</td>\n",
       "      <td>307.277985</td>\n",
       "      <td>9.287819</td>\n",
       "      <td>396</td>\n",
       "      <td>2590</td>\n",
       "      <td>NDE</td>\n",
       "      <td>2018312</td>\n",
       "      <td>1</td>\n",
       "    </tr>\n",
       "    <tr>\n",
       "      <th>4</th>\n",
       "      <td>34.865070</td>\n",
       "      <td>28.158880</td>\n",
       "      <td>8</td>\n",
       "      <td>39</td>\n",
       "      <td>301.227783</td>\n",
       "      <td>6.001442</td>\n",
       "      <td>402</td>\n",
       "      <td>2590</td>\n",
       "      <td>NDE</td>\n",
       "      <td>2018312</td>\n",
       "      <td>1</td>\n",
       "    </tr>\n",
       "  </tbody>\n",
       "</table>\n",
       "</div>"
      ],
      "text/plain": [
       "         Lon        Lat  Mask  Conf  brt_t13(K)    frp(MW)  line  sample  Sat  \\\n",
       "0  27.110006  30.769241     8    52  302.877533   5.814295   242    1735  NDE   \n",
       "1  26.083252  30.534357     9   100  332.959717  24.340988   301    1620  NDE   \n",
       "2  34.865997  28.162659     8    38  301.165985   6.107953   396    2589  NDE   \n",
       "3  34.872623  28.161121     8    71  307.277985   9.287819   396    2590  NDE   \n",
       "4  34.865070  28.158880     8    39  301.227783   6.001442   402    2590  NDE   \n",
       "\n",
       "   YearDay  Hour  \n",
       "0  2018312     1  \n",
       "1  2018312     1  \n",
       "2  2018312     1  \n",
       "3  2018312     1  \n",
       "4  2018312     1  "
      ]
     },
     "execution_count": 2,
     "metadata": {},
     "output_type": "execute_result"
    }
   ],
   "source": [
    "fires = pd.read_csv(\"../Earth-Obs-Py/data/VIIRSNDE_global2018312.v1.0.txt\")\n",
    "fires.head()"
   ]
  },
  {
   "cell_type": "code",
   "execution_count": 3,
   "metadata": {},
   "outputs": [],
   "source": [
    "bins10mw = np.arange(0, 500, 10)"
   ]
  },
  {
   "cell_type": "code",
   "execution_count": 4,
   "metadata": {},
   "outputs": [
    {
     "data": {
      "image/png": "[encoded data removed]",
      "text/plain": [
       "<Figure size 640x480 with 1 Axes>"
      ]
     },
     "metadata": {},
     "output_type": "display_data"
    }
   ],
   "source": [
    "plt.figure()\n",
    "plt.hist(fires['frp(MW)'], bins=bins10mw)\n",
    "plt.show()"
   ]
  },
  {
   "cell_type": "code",
   "execution_count": 5,
   "metadata": {},
   "outputs": [
    {
     "data": {
      "image/png": "[encoded data removed]",
      "text/plain": [
       "<Figure size 640x480 with 1 Axes>"
      ]
     },
     "metadata": {},
     "output_type": "display_data"
    }
   ],
   "source": [
    "plt.figure()\n",
    "ax = plt.subplot(111)\n",
    "ax.hist(fires['frp(MW)'], bins=bins10mw)\n",
    "ax.set_yscale('log')\n",
    "ax.set_xlabel(\"Fire Radiative Power (MW)\")\n",
    "ax.set_ylabel(\"Counts\")\n",
    "plt.show()"
   ]
  }
 ],
 "metadata": {
  "kernelspec": {
   "display_name": "Python 3 (ipykernel)",
   "language": "python",
   "name": "python3"
  },
  "language_info": {
   "codemirror_mode": {
    "name": "ipython",
    "version": 3
   },
   "file_extension": ".py",
   "mimetype": "text/x-python",
   "name": "python",
   "nbconvert_exporter": "python",
   "pygments_lexer": "ipython3",
   "version": "3.10.9"
  },
  "vscode": {
   "interpreter": {
    "hash": "31f2aee4e71d21fbe5cf8b01ff0e069b9275f58929596ceb00d14d90e3e16cd6"
   }
  }
 },
 "nbformat": 4,
 "nbformat_minor": 4
}
