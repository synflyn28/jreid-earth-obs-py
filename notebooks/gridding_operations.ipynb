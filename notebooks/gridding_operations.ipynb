{
 "cells": [
  {
   "cell_type": "markdown",
   "id": "cf4ffd8b-e470-4804-98f4-0cc162e84413",
   "metadata": {
    "tags": []
   },
   "source": [
    "# Gridding Operations"
   ]
  },
  {
   "cell_type": "code",
   "execution_count": 1,
   "id": "4800b4ed-4fa5-4dfd-bdee-811b024464db",
   "metadata": {},
   "outputs": [],
   "source": [
    "import pandas as pd\n",
    "import numpy as np\n",
    "from netCDF4 import Dataset\n",
    "import h5py\n",
    "from matplotlib import pyplot as plt\n",
    "from cartopy import crs as ccrs\n",
    "import scipy.interpolate"
   ]
  },
  {
   "cell_type": "code",
   "execution_count": 4,
   "id": "52ba7bf2-950e-44f9-b6ee-9f06ffa8e188",
   "metadata": {
    "tags": []
   },
   "outputs": [
    {
     "data": {
      "text/html": [
       "<div>\n",
       "<style scoped>\n",
       "    .dataframe tbody tr th:only-of-type {\n",
       "        vertical-align: middle;\n",
       "    }\n",
       "\n",
       "    .dataframe tbody tr th {\n",
       "        vertical-align: top;\n",
       "    }\n",
       "\n",
       "    .dataframe thead th {\n",
       "        text-align: right;\n",
       "    }\n",
       "</style>\n",
       "<table border=\"1\" class=\"dataframe\">\n",
       "  <thead>\n",
       "    <tr style=\"text-align: right;\">\n",
       "      <th></th>\n",
       "      <th>Lon</th>\n",
       "      <th>Lat</th>\n",
       "      <th>Mask</th>\n",
       "      <th>Conf</th>\n",
       "      <th>brt_t13(K)</th>\n",
       "      <th>frp(MW)</th>\n",
       "      <th>line</th>\n",
       "      <th>sample</th>\n",
       "      <th>Sat</th>\n",
       "      <th>YearDay</th>\n",
       "      <th>Hour</th>\n",
       "    </tr>\n",
       "  </thead>\n",
       "  <tbody>\n",
       "    <tr>\n",
       "      <th>0</th>\n",
       "      <td>27.110006</td>\n",
       "      <td>30.769241</td>\n",
       "      <td>8</td>\n",
       "      <td>52</td>\n",
       "      <td>302.877533</td>\n",
       "      <td>5.814295</td>\n",
       "      <td>242</td>\n",
       "      <td>1735</td>\n",
       "      <td>NDE</td>\n",
       "      <td>2018312</td>\n",
       "      <td>1</td>\n",
       "    </tr>\n",
       "    <tr>\n",
       "      <th>1</th>\n",
       "      <td>26.083252</td>\n",
       "      <td>30.534357</td>\n",
       "      <td>9</td>\n",
       "      <td>100</td>\n",
       "      <td>332.959717</td>\n",
       "      <td>24.340988</td>\n",
       "      <td>301</td>\n",
       "      <td>1620</td>\n",
       "      <td>NDE</td>\n",
       "      <td>2018312</td>\n",
       "      <td>1</td>\n",
       "    </tr>\n",
       "    <tr>\n",
       "      <th>2</th>\n",
       "      <td>34.865997</td>\n",
       "      <td>28.162659</td>\n",
       "      <td>8</td>\n",
       "      <td>38</td>\n",
       "      <td>301.165985</td>\n",
       "      <td>6.107953</td>\n",
       "      <td>396</td>\n",
       "      <td>2589</td>\n",
       "      <td>NDE</td>\n",
       "      <td>2018312</td>\n",
       "      <td>1</td>\n",
       "    </tr>\n",
       "    <tr>\n",
       "      <th>3</th>\n",
       "      <td>34.872623</td>\n",
       "      <td>28.161121</td>\n",
       "      <td>8</td>\n",
       "      <td>71</td>\n",
       "      <td>307.277985</td>\n",
       "      <td>9.287819</td>\n",
       "      <td>396</td>\n",
       "      <td>2590</td>\n",
       "      <td>NDE</td>\n",
       "      <td>2018312</td>\n",
       "      <td>1</td>\n",
       "    </tr>\n",
       "    <tr>\n",
       "      <th>4</th>\n",
       "      <td>34.865070</td>\n",
       "      <td>28.158880</td>\n",
       "      <td>8</td>\n",
       "      <td>39</td>\n",
       "      <td>301.227783</td>\n",
       "      <td>6.001442</td>\n",
       "      <td>402</td>\n",
       "      <td>2590</td>\n",
       "      <td>NDE</td>\n",
       "      <td>2018312</td>\n",
       "      <td>1</td>\n",
       "    </tr>\n",
       "  </tbody>\n",
       "</table>\n",
       "</div>"
      ],
      "text/plain": [
       "         Lon        Lat  Mask  Conf  brt_t13(K)    frp(MW)  line  sample  Sat  \\\n",
       "0  27.110006  30.769241     8    52  302.877533   5.814295   242    1735  NDE   \n",
       "1  26.083252  30.534357     9   100  332.959717  24.340988   301    1620  NDE   \n",
       "2  34.865997  28.162659     8    38  301.165985   6.107953   396    2589  NDE   \n",
       "3  34.872623  28.161121     8    71  307.277985   9.287819   396    2590  NDE   \n",
       "4  34.865070  28.158880     8    39  301.227783   6.001442   402    2590  NDE   \n",
       "\n",
       "   YearDay  Hour  \n",
       "0  2018312     1  \n",
       "1  2018312     1  \n",
       "2  2018312     1  \n",
       "3  2018312     1  \n",
       "4  2018312     1  "
      ]
     },
     "execution_count": 4,
     "metadata": {},
     "output_type": "execute_result"
    }
   ],
   "source": [
    "fires = pd.read_csv('../data/VIIRSNDE_global2018312.v1.0.txt')\n",
    "fires.head()"
   ]
  },
  {
   "cell_type": "code",
   "execution_count": 5,
   "id": "bbc7589a-054f-418a-ba98-a9ce375ed0af",
   "metadata": {
    "tags": []
   },
   "outputs": [
    {
     "name": "stdout",
     "output_type": "stream",
     "text": [
      "360 180\n"
     ]
    }
   ],
   "source": [
    "# Number of nx and ny points for the grid. 720 nx, 360 ny creates a 1.0 degree grid\n",
    "coverage = [-180.0, -90.0, 180.0, 90.0]\n",
    "\n",
    "grid_size = 1.0\n",
    "\n",
    "num_points_x = int(coverage[2] - coverage[0] / grid_size)\n",
    "num_points_y = int(coverage[3] - coverage[1] / grid_size)\n",
    "\n",
    "print(num_points_x, num_points_y)"
   ]
  },
  {
   "cell_type": "code",
   "execution_count": 7,
   "id": "0561418d-8d51-4844-93e3-95526946dd1d",
   "metadata": {
    "tags": []
   },
   "outputs": [
    {
     "name": "stdout",
     "output_type": "stream",
     "text": [
      "[0. 1. 2. 3.]\n"
     ]
    }
   ],
   "source": [
    "# Using a real step length will skip the end value (exclusive)\n",
    "print(np.mgrid[0:4:1.0])"
   ]
  },
  {
   "cell_type": "code",
   "execution_count": 8,
   "id": "50e983bf-ec0c-4d2f-bf96-8a6b695b437c",
   "metadata": {
    "tags": []
   },
   "outputs": [
    {
     "name": "stdout",
     "output_type": "stream",
     "text": [
      "[0. 1. 2. 3. 4.]\n"
     ]
    }
   ],
   "source": [
    "#Using a complex number of bins will include the end value (inclusvie)\n",
    "print(np.mgrid[0:4:5j])"
   ]
  },
  {
   "cell_type": "code",
   "execution_count": 10,
   "id": "ba8dbf99-02e8-4f90-8283-7f85dabbaee7",
   "metadata": {
    "tags": []
   },
   "outputs": [],
   "source": [
    "nx = complex(0, num_points_x)\n",
    "ny = complex(0, num_points_y)\n",
    "Xnew, Ynew = np.mgrid[coverage[0]:coverage[2]:nx, coverage[1]:coverage[3]:ny]"
   ]
  }
 ],
 "metadata": {
  "kernelspec": {
   "display_name": "Python 3 (ipykernel)",
   "language": "python",
   "name": "python3"
  },
  "language_info": {
   "codemirror_mode": {
    "name": "ipython",
    "version": 3
   },
   "file_extension": ".py",
   "mimetype": "text/x-python",
   "name": "python",
   "nbconvert_exporter": "python",
   "pygments_lexer": "ipython3",
   "version": "3.10.9"
  }
 },
 "nbformat": 4,
 "nbformat_minor": 5
}
