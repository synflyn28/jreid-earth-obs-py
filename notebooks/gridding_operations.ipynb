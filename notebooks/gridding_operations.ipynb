{
 "cells": [
  {
   "cell_type": "markdown",
   "id": "cf4ffd8b-e470-4804-98f4-0cc162e84413",
   "metadata": {
    "tags": []
   },
   "source": [
    "# Gridding Operations"
   ]
  },
  {
   "cell_type": "code",
   "execution_count": null,
   "id": "4800b4ed-4fa5-4dfd-bdee-811b024464db",
   "metadata": {},
   "outputs": [],
   "source": []
  }
 ],
 "metadata": {
  "kernelspec": {
   "display_name": "Python 3 (ipykernel)",
   "language": "python",
   "name": "python3"
  },
  "language_info": {
   "codemirror_mode": {
    "name": "ipython",
    "version": 3
   },
   "file_extension": ".py",
   "mimetype": "text/x-python",
   "name": "python",
   "nbconvert_exporter": "python",
   "pygments_lexer": "ipython3",
   "version": "3.10.9"
  }
 },
 "nbformat": 4,
 "nbformat_minor": 5
}
