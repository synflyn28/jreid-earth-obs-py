{
 "cells": [
  {
   "cell_type": "markdown",
   "id": "956d41f3-8e9f-4ce0-91ce-256f481dcca6",
   "metadata": {},
   "source": [
    "# Exporting Files"
   ]
  },
  {
   "cell_type": "code",
   "execution_count": 17,
   "id": "0b0a9fa2-4cf6-4dfa-aa2b-614e97c00368",
   "metadata": {
    "tags": []
   },
   "outputs": [],
   "source": [
    "name = ['GOES-16', 'IceSat-2', 'Himawari']\n",
    "agency = ['NOAA', 'NASA', 'JAXA']\n",
    "orbit = ['GEO', 'LEO', 'GEO']"
   ]
  },
  {
   "cell_type": "code",
   "execution_count": 18,
   "id": "1d416031-d1c6-4612-861c-3932ff3117fc",
   "metadata": {
    "tags": []
   },
   "outputs": [],
   "source": [
    "import csv\n",
    "\n",
    "with open('../data/satellite.txt', 'w', newline='') as csvfile:\n",
    "    writer = csv.writer(csvfile, delimiter=',')\n",
    "    \n",
    "    #adds a header\n",
    "    writer.writerow(['name', 'agency', 'orbit'])\n",
    "    \n",
    "    #Writes each element as a single row\n",
    "    for i in range(0, len(name)):\n",
    "        writer.writerow([name[i], agency[i], orbit[i]])"
   ]
  },
  {
   "cell_type": "code",
   "execution_count": 19,
   "id": "148e94f5-14ad-4aae-9016-92a64330036b",
   "metadata": {
    "tags": []
   },
   "outputs": [],
   "source": [
    "import pandas as pd\n",
    "\n",
    "df = pd.DataFrame({'name': name, 'agency': agency, 'orbit': orbit})\n",
    "df.to_csv('../data/satellites.csv', index=False)"
   ]
  },
  {
   "cell_type": "code",
   "execution_count": 20,
   "id": "755f1cb6-4d43-474e-a463-89ac1b8c15e6",
   "metadata": {
    "tags": []
   },
   "outputs": [],
   "source": [
    "import pickle as pkl\n",
    "pkl.dump(df, open(\"../data/satellites.p\", \"wb\"))"
   ]
  },
  {
   "cell_type": "code",
   "execution_count": 21,
   "id": "75cb486a-d145-4775-9d19-88552b047b19",
   "metadata": {
    "tags": []
   },
   "outputs": [
    {
     "data": {
      "text/html": [
       "<div>\n",
       "<style scoped>\n",
       "    .dataframe tbody tr th:only-of-type {\n",
       "        vertical-align: middle;\n",
       "    }\n",
       "\n",
       "    .dataframe tbody tr th {\n",
       "        vertical-align: top;\n",
       "    }\n",
       "\n",
       "    .dataframe thead th {\n",
       "        text-align: right;\n",
       "    }\n",
       "</style>\n",
       "<table border=\"1\" class=\"dataframe\">\n",
       "  <thead>\n",
       "    <tr style=\"text-align: right;\">\n",
       "      <th></th>\n",
       "      <th>name</th>\n",
       "      <th>agency</th>\n",
       "      <th>orbit</th>\n",
       "    </tr>\n",
       "  </thead>\n",
       "  <tbody>\n",
       "    <tr>\n",
       "      <th>0</th>\n",
       "      <td>GOES-16</td>\n",
       "      <td>NOAA</td>\n",
       "      <td>GEO</td>\n",
       "    </tr>\n",
       "    <tr>\n",
       "      <th>1</th>\n",
       "      <td>IceSat-2</td>\n",
       "      <td>NASA</td>\n",
       "      <td>LEO</td>\n",
       "    </tr>\n",
       "    <tr>\n",
       "      <th>2</th>\n",
       "      <td>Himawari</td>\n",
       "      <td>JAXA</td>\n",
       "      <td>GEO</td>\n",
       "    </tr>\n",
       "  </tbody>\n",
       "</table>\n",
       "</div>"
      ],
      "text/plain": [
       "       name agency orbit\n",
       "0   GOES-16   NOAA   GEO\n",
       "1  IceSat-2   NASA   LEO\n",
       "2  Himawari   JAXA   GEO"
      ]
     },
     "execution_count": 21,
     "metadata": {},
     "output_type": "execute_result"
    }
   ],
   "source": [
    "satellites2 = pkl.load(open(\"../data/satellites.p\", \"rb\"))\n",
    "satellites2.head()"
   ]
  },
  {
   "cell_type": "code",
   "execution_count": 22,
   "id": "b7d1ec5f-3616-4cb2-aa72-8db5e52fb611",
   "metadata": {
    "tags": []
   },
   "outputs": [],
   "source": [
    "import numpy as np\n",
    "np.savez('../data/satnames', name=name, agency=agency, orbit=orbit)"
   ]
  },
  {
   "cell_type": "code",
   "execution_count": 23,
   "id": "7c20aa98-beb2-45ab-8891-df1c015b0b39",
   "metadata": {
    "tags": []
   },
   "outputs": [
    {
     "data": {
      "text/plain": [
       "['name', 'agency', 'orbit']"
      ]
     },
     "execution_count": 23,
     "metadata": {},
     "output_type": "execute_result"
    }
   ],
   "source": [
    "npzfile = np.load('../data/satnames.npz')\n",
    "npzfile.files"
   ]
  },
  {
   "cell_type": "code",
   "execution_count": 24,
   "id": "c5c955de-80d7-4e9e-9367-9443c3828813",
   "metadata": {
    "tags": []
   },
   "outputs": [
    {
     "data": {
      "text/plain": [
       "array(['GOES-16', 'IceSat-2', 'Himawari'], dtype='<U8')"
      ]
     },
     "execution_count": 24,
     "metadata": {},
     "output_type": "execute_result"
    }
   ],
   "source": [
    "npzfile['name']"
   ]
  },
  {
   "cell_type": "code",
   "execution_count": 25,
   "id": "9322462d-0150-4603-80f0-97b573cf8163",
   "metadata": {
    "tags": []
   },
   "outputs": [],
   "source": [
    "from netCDF4 import Dataset\n",
    "import numpy as np\n",
    "from glob import glob"
   ]
  },
  {
   "cell_type": "code",
   "execution_count": 32,
   "id": "e8b8fd42-0290-4578-9730-5c375997b0e3",
   "metadata": {
    "tags": []
   },
   "outputs": [],
   "source": [
    "filenames = glob('../data/aod/JRR-AOD_v2r0*.nc')"
   ]
  },
  {
   "cell_type": "code",
   "execution_count": 33,
   "id": "24932949-a754-4ab5-b635-656d0678a140",
   "metadata": {
    "tags": []
   },
   "outputs": [],
   "source": [
    "#Import datasets\n",
    "file_id = Dataset(filenames[0], mode='r')"
   ]
  },
  {
   "cell_type": "code",
   "execution_count": 34,
   "id": "e456553c-d193-4fdd-8458-bd50c2d8c887",
   "metadata": {
    "tags": []
   },
   "outputs": [
    {
     "name": "stdout",
     "output_type": "stream",
     "text": [
      "Latitude ('Rows', 'Columns')\n",
      "Longitude ('Rows', 'Columns')\n",
      "AOD550 ('Rows', 'Columns')\n",
      "QCAll ('Rows', 'Columns')\n"
     ]
    }
   ],
   "source": [
    "for var in ['Latitude', 'Longitude', 'AOD550', 'QCAll']:\n",
    "    print(var, file_id.variables[var].dimensions)"
   ]
  },
  {
   "cell_type": "code",
   "execution_count": 35,
   "id": "12758e34-2fcf-4398-8f44-cf719fbbbde1",
   "metadata": {
    "tags": []
   },
   "outputs": [
    {
     "name": "stdout",
     "output_type": "stream",
     "text": [
      "Columns 3200\n",
      "Rows 768\n"
     ]
    }
   ],
   "source": [
    "for dim in ['Columns', 'Rows']:\n",
    "    print(dim, len(file_id.dimensions[dim]))"
   ]
  },
  {
   "cell_type": "code",
   "execution_count": 36,
   "id": "f4ee8d25-e43e-4628-b5dc-49e2feeba1f2",
   "metadata": {
    "tags": []
   },
   "outputs": [],
   "source": [
    "cols = len(file_id.dimensions['Columns'])\n",
    "rows = len(file_id.dimensions['Rows'])\n",
    "\n",
    "num_files = len(filenames)\n",
    "file_id.close()"
   ]
  },
  {
   "cell_type": "code",
   "execution_count": 37,
   "id": "63632abb-948a-4f55-a980-9f137d4d9914",
   "metadata": {
    "tags": []
   },
   "outputs": [
    {
     "name": "stdout",
     "output_type": "stream",
     "text": [
      "768 3200 3\n"
     ]
    }
   ],
   "source": [
    "print(rows, cols, num_files)"
   ]
  },
  {
   "cell_type": "code",
   "execution_count": 44,
   "id": "41d9588a-861f-422f-95e8-922df805be81",
   "metadata": {
    "tags": []
   },
   "outputs": [],
   "source": [
    "# Create output file name\n",
    "output_filename = \"../data/JRR-AOD-combined.nc\""
   ]
  },
  {
   "cell_type": "code",
   "execution_count": 45,
   "id": "7ba17253-3fda-486a-b70f-9b8edd1aa2d6",
   "metadata": {
    "tags": []
   },
   "outputs": [],
   "source": [
    "# Open a new NetCDF file\n",
    "rootgrp = Dataset(output_filename, 'w', format='NETCDF4')\n",
    "rootgrp.description = 'Combined NOAA-20 AOD swaths for Alberta Fire'"
   ]
  },
  {
   "cell_type": "code",
   "execution_count": 46,
   "id": "3a05f0c4-8628-4c20-bf3b-26a6230b533d",
   "metadata": {
    "tags": []
   },
   "outputs": [],
   "source": [
    "# Format the latitude and logitude variables\n",
    "lat = rootgrp.createDimension(\"lat\", rows*num_files)\n",
    "lon = rootgrp.createDimension(\"lon\", cols)"
   ]
  },
  {
   "cell_type": "code",
   "execution_count": 48,
   "id": "1ff93d8e-10ac-4120-aefa-05f9b918443d",
   "metadata": {
    "tags": []
   },
   "outputs": [],
   "source": [
    "latitudes = rootgrp.createVariable('Latitude', 'f4', ('lat', 'lon'), zlib=True, least_significant_digit=2)\n",
    "longitudes = rootgrp.createVariable('Longitude', 'f4', ('lat', 'lon'), zlib=True, least_significant_digit=2)\n",
    "variable = rootgrp.createVariable('AOD550', 'f4', ('lat', 'lon'), zlib=True, least_significant_digit=2, fill_value=-999.9)"
   ]
  },
  {
   "cell_type": "code",
   "execution_count": 49,
   "id": "2f298e8c-25df-414d-a413-7150206267ba",
   "metadata": {
    "tags": []
   },
   "outputs": [],
   "source": [
    "latitudes.units = 'degrees north'\n",
    "longitudes.units = 'degrees east'"
   ]
  },
  {
   "cell_type": "code",
   "execution_count": 50,
   "id": "5817ed24-50b6-4e16-ac4d-f0be17eee7cf",
   "metadata": {
    "tags": []
   },
   "outputs": [],
   "source": [
    "var = np.zeros((rows * num_files, cols))\n",
    "lats = np.zeros((rows * num_files, cols))\n",
    "lons = np.zeros((rows * num_files, cols))"
   ]
  },
  {
   "cell_type": "code",
   "execution_count": 51,
   "id": "76bbd336-ad2a-43db-8800-f28ccab4685c",
   "metadata": {
    "tags": []
   },
   "outputs": [],
   "source": [
    "for filenum, filename in enumerate(filenames):\n",
    "    file_id = Dataset(filename, mode='r')\n",
    "    \n",
    "    i1 = rows * filenum\n",
    "    i2 = rows * (filenum + 1)\n",
    "    \n",
    "    # Get coordinates\n",
    "    lats[i1:i2, 0:cols] = file_id.variables['Latitude'][:,:]\n",
    "    lons[i1:i2, 0:cols] = file_id.variables['Longitude'][:,:]\n",
    "    \n",
    "    # Create and fill variables\n",
    "    value = file_id.variables['AOD550'][:,:]\n",
    "    \n",
    "    # Simple binary quality flag\n",
    "    dqf = file_id.variables['QCAll'][:,:]\n",
    "    value[dqf != 0] = -999.9\n",
    "    \n",
    "    var[i1:i2, :] = value[:,:]\n",
    "    \n",
    "    file_id.close()\n",
    "    "
   ]
  },
  {
   "cell_type": "code",
   "execution_count": 52,
   "id": "2fb2d1ed-08e5-4fb7-85a6-c2b529a249cb",
   "metadata": {
    "tags": []
   },
   "outputs": [],
   "source": [
    "# Populate lat/lon/var\n",
    "latitudes[:,:] = lats\n",
    "longitudes[:,:] = lons\n",
    "variable[:,:] = var"
   ]
  },
  {
   "cell_type": "code",
   "execution_count": 53,
   "id": "6a1145d7-44ba-4c42-8983-b099dc3fc009",
   "metadata": {
    "tags": []
   },
   "outputs": [],
   "source": [
    "#Close original/modified NetCDF file\n",
    "rootgrp.close()"
   ]
  },
  {
   "cell_type": "code",
   "execution_count": 54,
   "id": "d88cad47-20e7-46a9-b440-dda6176bcfa8",
   "metadata": {
    "tags": []
   },
   "outputs": [],
   "source": [
    "import xarray as xr"
   ]
  },
  {
   "cell_type": "code",
   "execution_count": 57,
   "id": "88908e4e-57d4-46b9-89e6-56bc70585a60",
   "metadata": {
    "tags": []
   },
   "outputs": [],
   "source": [
    "fname = '../data/aod/JRR-AOD_v2r0*.nc'\n",
    "aod = xr.open_mfdataset(fname, concat_dim='Rows', combine='nested')\n",
    "filtered = aod['AOD550'].where(aod['QCAll'] == 0)"
   ]
  },
  {
   "cell_type": "code",
   "execution_count": 58,
   "id": "06ebfd2c-7a64-45ff-8108-e9bd5b2b877c",
   "metadata": {
    "tags": []
   },
   "outputs": [],
   "source": [
    "filtered.to_netcdf('../data/JRR-AOD-xarray-combined.nc')"
   ]
  }
 ],
 "metadata": {
  "kernelspec": {
   "display_name": "Python 3 (ipykernel)",
   "language": "python",
   "name": "python3"
  },
  "language_info": {
   "codemirror_mode": {
    "name": "ipython",
    "version": 3
   },
   "file_extension": ".py",
   "mimetype": "text/x-python",
   "name": "python",
   "nbconvert_exporter": "python",
   "pygments_lexer": "ipython3",
   "version": "3.10.9"
  }
 },
 "nbformat": 4,
 "nbformat_minor": 5
}
